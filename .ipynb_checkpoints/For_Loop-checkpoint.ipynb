{
 "cells": [
  {
   "cell_type": "code",
   "execution_count": 12,
   "id": "4ab55258",
   "metadata": {},
   "outputs": [
    {
     "data": {
      "text/plain": [
       "[1, 2, 3, 4, 5, 6, 7]"
      ]
     },
     "execution_count": 12,
     "metadata": {},
     "output_type": "execute_result"
    }
   ],
   "source": [
    "[x for x in range (1,10) if x <8 ]"
   ]
  },
  {
   "cell_type": "code",
   "execution_count": 13,
   "id": "f9d1e827",
   "metadata": {},
   "outputs": [
    {
     "name": "stdout",
     "output_type": "stream",
     "text": [
      "l\n",
      "u\n",
      "i\n",
      "z\n"
     ]
    }
   ],
   "source": [
    "nome = \"luiz\"\n",
    "\n",
    "for x in nome:\n",
    "    print(x)"
   ]
  },
  {
   "cell_type": "code",
   "execution_count": 25,
   "id": "26d749a4",
   "metadata": {},
   "outputs": [
    {
     "name": "stdout",
     "output_type": "stream",
     "text": [
      "1\n",
      "2\n",
      "3\n",
      "4\n",
      "5\n",
      "6\n",
      "7\n",
      "Multiplo de 7\n"
     ]
    }
   ],
   "source": [
    "for i in range(1,10):\n",
    "    print(i)\n",
    "    if i%7==0:\n",
    "        print(\"Multiplo de 7\")\n",
    "        break\n",
    "else:\n",
    "    print(\"Não locazado multiplos de 7\")"
   ]
  },
  {
   "cell_type": "code",
   "execution_count": 31,
   "id": "ab749811",
   "metadata": {},
   "outputs": [
    {
     "name": "stdout",
     "output_type": "stream",
     "text": [
      "-=--=--=--=--=--=--=--=--=--=-\n",
      "Always run\n",
      "1\n",
      "-=--=--=--=--=--=--=--=--=--=-\n",
      "Always run\n",
      "2\n",
      "-=--=--=--=--=--=--=--=--=--=-\n",
      "Dividide by zero\n",
      "Always run\n",
      "-=--=--=--=--=--=--=--=--=--=-\n",
      "Always run\n",
      "4\n",
      "-=--=--=--=--=--=--=--=--=--=-\n",
      "Always run\n",
      "5\n",
      "-=--=--=--=--=--=--=--=--=--=-\n",
      "Always run\n",
      "6\n",
      "-=--=--=--=--=--=--=--=--=--=-\n",
      "Always run\n",
      "7\n",
      "-=--=--=--=--=--=--=--=--=--=-\n",
      "Always run\n",
      "8\n",
      "-=--=--=--=--=--=--=--=--=--=-\n",
      "Always run\n",
      "9\n"
     ]
    }
   ],
   "source": [
    "for i in range(1,10):\n",
    "    print(\"-=-\"*10)\n",
    "    try:\n",
    "        10/(i-3)\n",
    "    except ZeroDivisionError:\n",
    "        print(\"Dividide by zero\")\n",
    "        continue\n",
    "    finally:\n",
    "        print(\"Always run\")\n",
    "        \n",
    "        \n",
    "    print(i)"
   ]
  }
 ],
 "metadata": {
  "kernelspec": {
   "display_name": "Python 3 (ipykernel)",
   "language": "python",
   "name": "python3"
  },
  "language_info": {
   "codemirror_mode": {
    "name": "ipython",
    "version": 3
   },
   "file_extension": ".py",
   "mimetype": "text/x-python",
   "name": "python",
   "nbconvert_exporter": "python",
   "pygments_lexer": "ipython3",
   "version": "3.9.7"
  }
 },
 "nbformat": 4,
 "nbformat_minor": 5
}
